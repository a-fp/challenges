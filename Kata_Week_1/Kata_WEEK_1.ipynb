{
 "cells": [
  {
   "cell_type": "code",
   "execution_count": 39,
   "id": "a05daf56",
   "metadata": {},
   "outputs": [],
   "source": [
    "def BalancedNumber(number):\n",
    "    string_num = str(number)\n",
    "    if len(string_num) %2 == 0:\n",
    "        len_str = len(string_num)/2  # divido entre dos y despues le quito uno pq es par, y quito un dg del medio.\n",
    "        len_str = len_str - 1\n",
    "        string_dcha = string_num[len_str + 2:]\n",
    "        string_dcha\n",
    "        Leftsum = 0\n",
    "        Rightsum = 0\n",
    "        for i in range(0, int(len_str)):\n",
    "            Leftsum = Leftsum + int(number[i])\n",
    "            Rightsum = (Rightsum + int(number[len(number) - 1-i]))\n",
    "            if (Leftsum == Rightsum):\n",
    "                return(\"Balanced\")\n",
    "            else:\n",
    "                return(\"Not Balanced\")\n",
    "            \n",
    "    else:\n",
    "        len_str = len(string_num)/2  # divido entre dos y despues le quito 0,5 pq es impar, y quito un medio dg del medio.\n",
    "        len_str = len_str - 0.5\n",
    "        string_dcha = string_num[len_str + 1:]\n",
    "        string_dcha"
   ]
  },
  {
   "cell_type": "code",
   "execution_count": 41,
   "id": "58316966",
   "metadata": {},
   "outputs": [
    {
     "ename": "TypeError",
     "evalue": "slice indices must be integers or None or have an __index__ method",
     "output_type": "error",
     "traceback": [
      "\u001b[0;31m---------------------------------------------------------------------------\u001b[0m",
      "\u001b[0;31mTypeError\u001b[0m                                 Traceback (most recent call last)",
      "\u001b[0;32m<ipython-input-41-50f7bf03c6fd>\u001b[0m in \u001b[0;36m<module>\u001b[0;34m\u001b[0m\n\u001b[0;32m----> 1\u001b[0;31m \u001b[0mBalancedNumber\u001b[0m\u001b[0;34m(\u001b[0m\u001b[0;36m22\u001b[0m\u001b[0;34m)\u001b[0m\u001b[0;34m\u001b[0m\u001b[0;34m\u001b[0m\u001b[0m\n\u001b[0m",
      "\u001b[0;32m<ipython-input-39-41b85b69e07b>\u001b[0m in \u001b[0;36mBalancedNumber\u001b[0;34m(number)\u001b[0m\n\u001b[1;32m      4\u001b[0m         \u001b[0mlen_str\u001b[0m \u001b[0;34m=\u001b[0m \u001b[0mlen\u001b[0m\u001b[0;34m(\u001b[0m\u001b[0mstring_num\u001b[0m\u001b[0;34m)\u001b[0m\u001b[0;34m/\u001b[0m\u001b[0;36m2\u001b[0m  \u001b[0;31m# divido entre dos y despues le quito uno pq es par, y quito un dg del medio.\u001b[0m\u001b[0;34m\u001b[0m\u001b[0;34m\u001b[0m\u001b[0m\n\u001b[1;32m      5\u001b[0m         \u001b[0mlen_str\u001b[0m \u001b[0;34m=\u001b[0m \u001b[0mlen_str\u001b[0m \u001b[0;34m-\u001b[0m \u001b[0;36m1\u001b[0m\u001b[0;34m\u001b[0m\u001b[0;34m\u001b[0m\u001b[0m\n\u001b[0;32m----> 6\u001b[0;31m         \u001b[0mstring_dcha\u001b[0m \u001b[0;34m=\u001b[0m \u001b[0mstring_num\u001b[0m\u001b[0;34m[\u001b[0m\u001b[0mlen_str\u001b[0m \u001b[0;34m+\u001b[0m \u001b[0;36m2\u001b[0m\u001b[0;34m:\u001b[0m\u001b[0;34m]\u001b[0m\u001b[0;34m\u001b[0m\u001b[0;34m\u001b[0m\u001b[0m\n\u001b[0m\u001b[1;32m      7\u001b[0m         \u001b[0mstring_dcha\u001b[0m\u001b[0;34m\u001b[0m\u001b[0;34m\u001b[0m\u001b[0m\n\u001b[1;32m      8\u001b[0m         \u001b[0mLeftsum\u001b[0m \u001b[0;34m=\u001b[0m \u001b[0;36m0\u001b[0m\u001b[0;34m\u001b[0m\u001b[0;34m\u001b[0m\u001b[0m\n",
      "\u001b[0;31mTypeError\u001b[0m: slice indices must be integers or None or have an __index__ method"
     ]
    }
   ],
   "source": [
    "BalancedNumber(22)"
   ]
  }
 ],
 "metadata": {
  "kernelspec": {
   "display_name": "Python 3 (ipykernel)",
   "language": "python",
   "name": "python3"
  },
  "language_info": {
   "codemirror_mode": {
    "name": "ipython",
    "version": 3
   },
   "file_extension": ".py",
   "mimetype": "text/x-python",
   "name": "python",
   "nbconvert_exporter": "python",
   "pygments_lexer": "ipython3",
   "version": "3.7.11"
  }
 },
 "nbformat": 4,
 "nbformat_minor": 5
}
